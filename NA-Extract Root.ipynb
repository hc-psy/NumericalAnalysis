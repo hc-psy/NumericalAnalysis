{
 "cells": [
  {
   "cell_type": "markdown",
   "metadata": {},
   "source": [
    "# Numerical Analysis: Extract Root"
   ]
  },
  {
   "cell_type": "code",
   "execution_count": 1,
   "metadata": {},
   "outputs": [],
   "source": [
    "import numpy as np\n",
    "import numpy.random as rn"
   ]
  },
  {
   "cell_type": "markdown",
   "metadata": {},
   "source": [
    "Objected Function: $f(x)=e^x-2x-2=0$"
   ]
  },
  {
   "cell_type": "code",
   "execution_count": 28,
   "metadata": {},
   "outputs": [],
   "source": [
    "def f(x):\n",
    "    return np.exp(x)-2*x-2"
   ]
  },
  {
   "cell_type": "markdown",
   "metadata": {},
   "source": [
    "## Genetic Method\n",
    "\n",
    "Algo:\n",
    "\n",
    "$f(x_0)=y_0$\n",
    "\n",
    "$f(x_1)=y_1$\n",
    "\n",
    "If $|y_1|<|y_0|,\\ x_0:=x_1$\n",
    "\n",
    "If $|y_1|>=|y_0|$ reset $x_1$"
   ]
  },
  {
   "cell_type": "code",
   "execution_count": 29,
   "metadata": {},
   "outputs": [
    {
     "name": "stdout",
     "output_type": "stream",
     "text": [
      "183017 steps\n"
     ]
    }
   ],
   "source": [
    "x0 = 1+rn.randn() #random from nornal dist\n",
    "tol = 10**(-5)\n",
    "i = 0\n",
    "\n",
    "while abs(f(x0))>tol:\n",
    "    i+=1\n",
    "    x1 = rn.randn()\n",
    "    if abs(f(x1))<abs(f(x0)):\n",
    "        x0 = x1\n",
    "print(i,\"steps\")"
   ]
  },
  {
   "cell_type": "code",
   "execution_count": 30,
   "metadata": {},
   "outputs": [
    {
     "data": {
      "text/plain": [
       "1.6783498920519722"
      ]
     },
     "execution_count": 30,
     "metadata": {},
     "output_type": "execute_result"
    }
   ],
   "source": [
    "x0"
   ]
  },
  {
   "cell_type": "code",
   "execution_count": 31,
   "metadata": {},
   "outputs": [
    {
     "data": {
      "text/plain": [
       "9.741267016138977e-06"
      ]
     },
     "execution_count": 31,
     "metadata": {},
     "output_type": "execute_result"
    }
   ],
   "source": [
    "f(x0)"
   ]
  },
  {
   "cell_type": "markdown",
   "metadata": {},
   "source": [
    "## Bi-section Method\n",
    "\n",
    "Just for continuous function\n",
    "\n",
    "If $f(a)f(b) < 0$, exist $f(c) = 0$, $c \\in [a,b]$"
   ]
  },
  {
   "cell_type": "code",
   "execution_count": 10,
   "metadata": {},
   "outputs": [
    {
     "name": "stdout",
     "output_type": "stream",
     "text": [
      "1 1.75\n",
      "2 1.625\n",
      "3 1.6875\n",
      "4 1.65625\n",
      "5 1.671875\n",
      "6 1.6796875\n",
      "7 1.67578125\n",
      "8 1.677734375\n",
      "9 1.6787109375\n",
      "10 1.67822265625\n",
      "11 1.678466796875\n",
      "12 1.6783447265625\n",
      "13 1.67840576171875\n",
      "14 1.678375244140625\n",
      "15 1.6783599853515625\n",
      "16 1.6783523559570312\n",
      "17 1.6783485412597656\n",
      "18 1.6783466339111328\n",
      "19 1.6783475875854492\n",
      "20 1.678347110748291\n",
      "21 1.678346872329712\n",
      "22 1.6783469915390015\n",
      "23 1.6783469319343567\n",
      "24 1.678346961736679\n",
      "25 1.6783469766378403\n",
      "26 1.6783469840884209\n",
      "27 1.6783469878137112\n",
      "28 1.6783469896763563\n",
      "29 1.678346990607679\n",
      "30 1.6783469901420176\n",
      "31 1.678346989909187\n",
      "32 1.6783469900256023\n",
      "33 1.6783469899673946\n",
      "34 1.6783469899964985\n",
      "35 1.6783469900110504\n",
      "36 1.6783469900183263\n",
      "37 1.6783469900146883\n",
      "38 1.6783469900165073\n"
     ]
    }
   ],
   "source": [
    "a = 1\n",
    "b = 2\n",
    "i = 0\n",
    "tol = 10**(-12)\n",
    "c = float(a+b)/2\n",
    "\n",
    "while abs(f(c))>tol:\n",
    "    if f(a)*f(c)<0:\n",
    "        b = c\n",
    "        c = float(a+b)/2\n",
    "    elif f(b)*f(c)<0:\n",
    "        a = c\n",
    "        c = float(a+b)/2\n",
    "    else:\n",
    "        pass\n",
    "    \n",
    "    i+=1\n",
    "    print(i,c)"
   ]
  },
  {
   "cell_type": "markdown",
   "metadata": {},
   "source": [
    "## Simple Iteration & Fixed point\n",
    "\n",
    "$f(x) = 0$ to $g(x) = x$\n",
    "\n",
    "$f(x) = e^x-2x-2 = 0$\n",
    "\n",
    "$x = ln(2x+2)$ or $x = (e^x-2)/2 \\rightarrow g(x)$\n",
    "\n",
    "* fixed point\n",
    "\n",
    "    * if $g(x)$ is real function, $x = g(x)$, $x$ is fixed point of $g(x)$\n",
    "\n",
    "* simple iteration\n",
    "\n",
    "    * if $g(x)$ is real func, $x_0$ inital val, $x_{n+1} = g(x_n),\\ n <= 0$\n"
   ]
  },
  {
   "cell_type": "code",
   "execution_count": 32,
   "metadata": {},
   "outputs": [],
   "source": [
    "def g(x):\n",
    "    return np.log(2*x+2)"
   ]
  },
  {
   "cell_type": "code",
   "execution_count": 12,
   "metadata": {},
   "outputs": [
    {
     "name": "stdout",
     "output_type": "stream",
     "text": [
      "1 1.3862943611198906\n",
      "2 1.5628888667518892\n",
      "3 1.6342822663899546\n",
      "4 1.6617579407780845\n",
      "5 1.6721339650603004\n",
      "6 1.67602457160191\n",
      "7 1.677479504996742\n",
      "8 1.6780230493407213\n",
      "9 1.678226034715233\n",
      "10 1.6783018285670213\n",
      "11 1.6783301281871215\n",
      "12 1.6783406943863035\n",
      "13 1.6783446394482766\n",
      "14 1.6783461123972094\n",
      "15 1.678346662344556\n",
      "16 1.6783468676754831\n",
      "17 1.6783469443387926\n",
      "18 1.6783469729621607\n",
      "19 1.6783469836491138\n",
      "20 1.6783469876392438\n",
      "21 1.6783469891290173\n",
      "22 1.678346989685246\n",
      "23 1.6783469898929222\n",
      "24 1.678346989970461\n",
      "25 1.6783469899994115\n",
      "26 1.6783469900102206\n",
      "27 1.6783469900142562\n",
      "28 1.678346990015763\n"
     ]
    }
   ],
   "source": [
    "tol = 10**(-12)\n",
    "i = 0\n",
    "x0 = 1.0\n",
    "x1 = g(x0)\n",
    "\n",
    "while abs(x1-x0)>tol: # x-g(x) -> 0\n",
    "    i+=1\n",
    "    x0 = x1\n",
    "    x1 = g(x0)\n",
    "    print(i, x0)"
   ]
  },
  {
   "cell_type": "code",
   "execution_count": 24,
   "metadata": {},
   "outputs": [
    {
     "name": "stdout",
     "output_type": "stream",
     "text": [
      "1 -13.122363377375573\n"
     ]
    },
    {
     "name": "stderr",
     "output_type": "stream",
     "text": [
      "C:\\Users\\USER\\Anaconda3\\lib\\site-packages\\ipykernel_launcher.py:2: RuntimeWarning: invalid value encountered in log\n",
      "  \n"
     ]
    }
   ],
   "source": [
    "tol = 10**(-12)\n",
    "i = 0\n",
    "x0 = -0.999999\n",
    "x1 = g(x0)\n",
    "\n",
    "while abs(x1-x0)>tol: # x-g(x) -> 0\n",
    "    i+=1\n",
    "    x0 = x1\n",
    "    x1 = g(x0)\n",
    "    print(i, x0)"
   ]
  },
  {
   "cell_type": "markdown",
   "metadata": {},
   "source": [
    "### Convergence problem\n",
    "\n",
    "#### Brouwer's fixed point theorem\n",
    "\n",
    "if $g(x)$ is conti. on $[a,b]$ and $x ∈ [a,b],\\ g(x) \\in [a,b]$\n",
    "\n",
    "then exist a point $c \\in [a, b],\\ g(c) = c$\n",
    "\n",
    "*proof*\n",
    "\n",
    "$f(x) = x-g(x)$\n",
    "\n",
    "$g(a) \\in [a,b] \\rightarrow f(a) = a-g(a) <= 0$\n",
    "\n",
    "$g(b) \\in [a,b] \\rightarrow f(b) = b-g(b) >= 0$\n",
    "\n",
    "$\\rightarrow f(a)f(b) <= 0$\n",
    "\n",
    "f is defined an conti. on $[a,b]$ -> exist $c ∈ [a,b]$ s.t. $0=f(c)=c-g(c)$\n",
    "\n",
    "#### Contraction mapping theorem\n",
    "\n",
    "$|g(x)-g(y)| <= L|x-y|,\\ 0<L<1$\n",
    "\n",
    "*example*\n",
    "\n",
    "$g(x) = x^2-2x+7,\\ [a,b]=[0.6,1.4]$\n",
    "\n",
    "$|g(x)-g(y)|=|(x^2-y^2)-2(x-y)|=|x+y-2||x-y|<=0.8|x-y|$\n",
    "\n",
    "#### Brouwer + Contraction \n",
    "\n",
    "then exist only point $c \\in [a,b]$ s.t. $g(c) = c$\n",
    "\n",
    "plus, for any $x_0 \\in [a,b]$\n",
    "\n",
    "by simple iteration it can converge to this fixed point c\n",
    "\n",
    "uniqueness and convergence can be proved"
   ]
  },
  {
   "cell_type": "markdown",
   "metadata": {},
   "source": [
    "## Newton Method\n",
    "\n",
    "for conti. & deriavable func.\n",
    "\n",
    "$x_{n+1} = x_n - f(x_n)/f'(x_n)$\n",
    "\n",
    "Algo: \n",
    "\n",
    "Find the func $h$ of slope on $x_n$, let $h = 0$, $x_{n+1}$ is the root of $h$"
   ]
  },
  {
   "cell_type": "code",
   "execution_count": 26,
   "metadata": {},
   "outputs": [
    {
     "name": "stdout",
     "output_type": "stream",
     "text": [
      "1 1.742245010363451\n",
      "2 1.681423085804698\n",
      "3 1.6783545186400695\n",
      "4 1.678346990061886\n",
      "5 1.6783469900166608\n",
      "6 1.6783469900166605\n"
     ]
    }
   ],
   "source": [
    "def df(x):\n",
    "    return np.exp(x)-2\n",
    "\n",
    "x0 = 2\n",
    "i = 0\n",
    "tol = 10**(-50)\n",
    "\n",
    "while abs(f(x0))>tol:\n",
    "    x0 = x0-f(x0)/df(x0)\n",
    "    i+=1\n",
    "    print(i,x0)"
   ]
  },
  {
   "cell_type": "markdown",
   "metadata": {},
   "source": [
    "### Newton method is a case of simple iteration\n",
    "\n",
    "$f(x)=0$\n",
    "\n",
    "$x-\\lambda f(x) = x,\\ \\lambda \\neq 0$\n",
    "\n",
    "$g(x) = x-\\lambda f(x)$\n",
    "\n",
    "for minimal or maximal point\n",
    "\n",
    "$g'(x) = 1-\\lambda f'(x)$\n",
    "\n",
    "$\\lambda = 1 / f'(x)$\n",
    "\n",
    "hence,\n",
    "\n",
    "$g(x) = x - f(x)/f'(x)$\n",
    "\n",
    "### Newton 2nd convergence speed\n",
    "\n",
    "$x_{n+1} = x_n - f(x_n)/f'(x_n)$\n",
    "\n",
    "$0=f(\\beta)=f(x_n+e_n)=f(x_n)+f'(x_n)e_n + f''(\\tau)e^2_n/2$\n",
    "\n",
    "$x_{n+1} = x_n - f(x_n)/f'(x_n) = x_n+e_n+f''(\\tau)e^2_n/2f'(x_n)$\n",
    "\n",
    "$x_{n+1} = x_n - f(x_n)/f'(x_n) = \\beta+f''(\\tau)e^2_n/2f'(x_n)$\n",
    "\n",
    "$x_{n+1}-\\beta = -e_{n+1} = f''(\\tau)e^2_n/2f'(x_n)$\n",
    "\n",
    "$|-e_{n+1}|/|e_n|^2 = |f''(\\tau)/2f'(x_n)| \\to  |f''(\\beta)/2f'(\\beta)| = C$\n",
    "\n",
    "$\\alpha = 2$"
   ]
  },
  {
   "cell_type": "code",
   "execution_count": 59,
   "metadata": {},
   "outputs": [
    {
     "name": "stdout",
     "output_type": "stream",
     "text": [
      "[0.12946680321283233, 0.029174490968235066, 0.0009413179089903075, 8.88895805126442e-07, 4.213134466882078e-05]\n",
      "[0.25893360642566465, 0.4506868207794503, 0.4984304947034502, 0.500014753752278, 26661613.35771456]\n",
      "[-0.06473340160641616, -0.0018885640405095216, -1.7777391536067094e-06, -1.5802248762500354e-12, 6.65769989155349e-17]\n"
     ]
    }
   ],
   "source": [
    "# make sure the convergence order is 2\n",
    "\n",
    "def f(x):\n",
    "    return np.exp(x)-2*x-1\n",
    "\n",
    "x0 = -0.5\n",
    "i = 0\n",
    "tol = 10**(-14)\n",
    "C1,C2,D = [],[],[]\n",
    "\n",
    "while abs(f(x0))>tol:\n",
    "    x1 = x0-f(x0)/df(x0)\n",
    "    C2.append(abs(x1)/abs(x0)**2)\n",
    "    C1.append(abs(x1)/abs(x0))\n",
    "    x0 = x1\n",
    "    D.append(x0)\n",
    "\n",
    "print(C1)\n",
    "print(C2)\n",
    "print(D)"
   ]
  },
  {
   "cell_type": "markdown",
   "metadata": {},
   "source": [
    "### O & o notation of newton method\n",
    "\n",
    "$x_n = O(\\alpha _n)$, if $|x_n|<=C|\\alpha _n|$, for all n >= N\n",
    "\n",
    "$x_n = o(\\alpha _n)$, if $x_n/\\alpha _n \\to 0$\n",
    "\n",
    "$e_{n+1} = o(e_n)$\n",
    "\n",
    "above, converge to 0 means o(). converge to 0.5 means equal to analytical sol\n",
    "\n",
    "### Analytical solution\n",
    "\n",
    "$C = |f''(0)/2f'(0)| = 0.5$\n",
    "\n",
    "### Mooc definition\n",
    "\n",
    "$|x_{n+1}-\\beta|/|x_n-\\beta|^\\alpha \\to  C$\n",
    "\n",
    "$\\alpha$ is asymptotic rate\n",
    "\n",
    "$C$ is asymptotic constant"
   ]
  },
  {
   "cell_type": "markdown",
   "metadata": {},
   "source": [
    "## Secant Method\n",
    "\n",
    "$x_{n+1} = g(x_n)$, simple iteration\n",
    "\n",
    "$x_{n+1} = g(x_n, x_{n-1},..., x_{n-m})$\n",
    "\n",
    "$(a_{n+1}, b_{n+1}) = g(a_n, b_n)$, bisection method\n",
    "\n",
    "secant method\n",
    "\n",
    "$x_{n+1} = x_{n} - f(x_n) \\dfrac{x_n - x_{n-1}}{f(x_n)-f(x_{n-1})},\\ n=1,2,3,...$\n",
    "\n",
    "asymptotic rate is 1.6"
   ]
  },
  {
   "cell_type": "code",
   "execution_count": 65,
   "metadata": {},
   "outputs": [],
   "source": [
    "def Newton(f, df, x0=1.0, tol=10**(-14)):\n",
    "    i = 0\n",
    "    while abs(f(x0))>tol:\n",
    "        x0 = x0-f(x0)/df(x0)\n",
    "        i+=1\n",
    "    return x0, i\n",
    "\n",
    "def Secant(f, x0=1.0, x1=1.1, tol=10**(-14)):\n",
    "    i = 0\n",
    "    while abs(f(x1))>tol:\n",
    "        x2 = x1-f(x1)*(x1-x0)/(f(x1)-f(x0))\n",
    "        x0 = x1\n",
    "        x1 = x2\n",
    "        i+=1\n",
    "    return x1, i"
   ]
  },
  {
   "cell_type": "code",
   "execution_count": 66,
   "metadata": {
    "scrolled": true
   },
   "outputs": [
    {
     "data": {
      "text/plain": [
       "(9.24925567682534e-18, 6)"
      ]
     },
     "execution_count": 66,
     "metadata": {},
     "output_type": "execute_result"
    }
   ],
   "source": [
    "x0, i = Newton(lambda x:f(x), lambda x:df(x), -2, 10**(-16))\n",
    "x0, i"
   ]
  },
  {
   "cell_type": "code",
   "execution_count": 67,
   "metadata": {},
   "outputs": [
    {
     "data": {
      "text/plain": [
       "(-8.736554828775462e-17, 8)"
      ]
     },
     "execution_count": 67,
     "metadata": {},
     "output_type": "execute_result"
    }
   ],
   "source": [
    "x1, i = Secant(lambda x:f(x), -2, -2.1, 10**(-16))\n",
    "x1, i"
   ]
  }
 ],
 "metadata": {
  "kernelspec": {
   "display_name": "Python 3",
   "language": "python",
   "name": "python3"
  },
  "language_info": {
   "codemirror_mode": {
    "name": "ipython",
    "version": 3
   },
   "file_extension": ".py",
   "mimetype": "text/x-python",
   "name": "python",
   "nbconvert_exporter": "python",
   "pygments_lexer": "ipython3",
   "version": "3.7.1"
  }
 },
 "nbformat": 4,
 "nbformat_minor": 2
}
