{
 "cells": [
  {
   "cell_type": "markdown",
   "metadata": {},
   "source": [
    "# Numerical Analysis: Orthogonality and EV"
   ]
  },
  {
   "cell_type": "code",
   "execution_count": 3,
   "metadata": {},
   "outputs": [],
   "source": [
    "import numpy.linalg as la\n",
    "import numpy.random as rn\n",
    "import numpy as np"
   ]
  },
  {
   "cell_type": "code",
   "execution_count": 4,
   "metadata": {},
   "outputs": [],
   "source": [
    "def LU(A):\n",
    "    m,n = A.shape\n",
    "    U = A.copy()\n",
    "    L = np.mat(np.identity(m))\n",
    "    P = L.copy()\n",
    "    \n",
    "    for i in range(m):\n",
    "        # find max element in the col i\n",
    "        maxEc = abs(U[i,i])\n",
    "        maxRow = i\n",
    "        for k in range(i+1,m):\n",
    "            if abs(U[k,i]) > maxEc:\n",
    "                maxEc = U[k,i]\n",
    "                maxRow = k\n",
    "        \n",
    "        #swap maximum row with current row\n",
    "        U[[i, maxRow],:] = U[[maxRow,i],:]\n",
    "        P[[i, maxRow],:] = P[[maxRow,i],:]\n",
    "        L[[i, maxRow],:] = L[[maxRow,i],:]\n",
    "        L[:,[i, maxRow]] = L[:,[maxRow,i]] #maintain low triangular form\n",
    "        \n",
    "        for k in range(i+1,m):\n",
    "            c = -float(U[k,i])/U[i,i]\n",
    "            #delete k row by i\n",
    "            U[k,i:] = U[k,i:] + c*U[i,i:]\n",
    "            #delete i col by k\n",
    "            L[k:,i] = L[k:,i] - c*L[k:,k]\n",
    "    \n",
    "    return L,U,P\n",
    "\n",
    "def Forward(L,b):\n",
    "    m,n = L.shape\n",
    "    x = b.copy()\n",
    "    for i in range(m):\n",
    "        for k in range(i):\n",
    "            x[i] -= L[i,k]*x[k] # in the first step i = 0 will not occur \n",
    "        x[i] = float(x[i])/L[i,i] # i, i is the pivot\n",
    "    return x\n",
    "\n",
    "def Backward(U,b):\n",
    "    m,n = U.shape\n",
    "    x = b.copy()\n",
    "    for i in range(m-1,-1,-1):\n",
    "        for k in range(m-1,i,-1):\n",
    "            x[i] -= U[i,k]*x[k]\n",
    "        x[i] = float(x[i])/U[i,i]\n",
    "    return x"
   ]
  },
  {
   "cell_type": "markdown",
   "metadata": {},
   "source": [
    "## Inverse Power Method\n",
    "\n",
    "$x_{n+1} = (A-\\mu I)^{-1}x_n \\to (A-\\mu I)x_{n+1}=x_n$\n",
    "\n",
    "E.val: $\\dfrac{1}{\\lambda - \\mu}$ max val when $\\lambda$ is close to $\\mu$"
   ]
  },
  {
   "cell_type": "code",
   "execution_count": 3,
   "metadata": {},
   "outputs": [],
   "source": [
    "#find the mu-nearest eigenvalue\n",
    "def inv_power(A, mu, tol=10**(-12), Maxitr=10000):\n",
    "    m,n = A.shape\n",
    "    B = A-mu*np.identity(m)\n",
    "    x0 = np.mat(rn.randn(m,1))\n",
    "    x0 = x0/la.norm(x0) #normalized\n",
    "    L,U,P = LU(B)\n",
    "    bp = P*x0\n",
    "    y = Forward(L,bp) #solve y\n",
    "    x1 = Backward(U,y) #solve x\n",
    "    x1 = x1/la.norm(x1) #normalized\n",
    "    i = 0\n",
    "    while (la.norm(x1-x0))>tol and abs(la.norm(x1-x0)-2)>tol and i<Maxitr:\n",
    "        # la.norm(x1-x0)-2 sometime there is close but diff direction\n",
    "        i+=1\n",
    "        x0 = x1\n",
    "        bp = P*x0\n",
    "        y = Forward(L,bp) #solve y\n",
    "        x1 = Backward(U,y) #solve x\n",
    "        x1 = x1/la.norm(x1) #normalized\n",
    "        if i==Maxitr:\n",
    "            print(la.norm(x1-x0))\n",
    "            print(\"Warning: not accurate\")\n",
    "    print(\"Compute\",i,\"iteration to obtain the result\")\n",
    "    L = (A*x1).T*x1/(x1.T*x1) #e.val\n",
    "    return x1,L"
   ]
  },
  {
   "cell_type": "code",
   "execution_count": 6,
   "metadata": {},
   "outputs": [
    {
     "data": {
      "text/plain": [
       "matrix([[ 586.,  182.,   26., -357.,  -38.],\n",
       "        [ 182.,  463.,   64., -167.,  152.],\n",
       "        [  26.,   64.,  133.,   76.,   14.],\n",
       "        [-357., -167.,   76., 1062.,  138.],\n",
       "        [ -38.,  152.,   14.,  138.,  112.]])"
      ]
     },
     "execution_count": 6,
     "metadata": {},
     "output_type": "execute_result"
    }
   ],
   "source": [
    "A = np.mat(np.round(rn.randn(5,5)*10))\n",
    "A = A.T*A #make sure there exist ev\n",
    "A"
   ]
  },
  {
   "cell_type": "code",
   "execution_count": 7,
   "metadata": {},
   "outputs": [
    {
     "name": "stdout",
     "output_type": "stream",
     "text": [
      "[1325.82140692  558.31434728  344.16851806  115.40180799   12.29391975]\n"
     ]
    }
   ],
   "source": [
    "a = la.eig(A)\n",
    "print(a[0])"
   ]
  },
  {
   "cell_type": "code",
   "execution_count": 9,
   "metadata": {},
   "outputs": [
    {
     "name": "stdout",
     "output_type": "stream",
     "text": [
      "Compute 19 iteration to obtain the result\n"
     ]
    },
    {
     "data": {
      "text/plain": [
       "matrix([[1325.82140692]])"
      ]
     },
     "execution_count": 9,
     "metadata": {},
     "output_type": "execute_result"
    }
   ],
   "source": [
    "x1, L = inv_power(A,2000)\n",
    "L"
   ]
  },
  {
   "cell_type": "code",
   "execution_count": 10,
   "metadata": {},
   "outputs": [
    {
     "name": "stdout",
     "output_type": "stream",
     "text": [
      "Compute 5712 iteration to obtain the result\n"
     ]
    },
    {
     "data": {
      "text/plain": [
       "matrix([[558.31434728]])"
      ]
     },
     "execution_count": 10,
     "metadata": {},
     "output_type": "execute_result"
    }
   ],
   "source": [
    "x1, L = inv_power(A,(1325+558)/2)\n",
    "L"
   ]
  },
  {
   "cell_type": "markdown",
   "metadata": {},
   "source": [
    "if mu is between 2 eigen val, there can be very slow"
   ]
  },
  {
   "cell_type": "markdown",
   "metadata": {},
   "source": [
    "## Power Method\n",
    "\n",
    "find max$\\lambda$\n",
    "\n",
    "theorem: A is nxn diagonalizable, exist x0 != 0, s.t.\n",
    "\n",
    "$Ax_0, A^2x_0, ..., A^nx_0$\n",
    "\n",
    "converge to max e.vector\n",
    "\n",
    "proof:\n",
    "\n",
    "$Ax_0$ can be expressed by linear combination of of e.vec\n",
    "\n",
    "$Ax_0=\\sum c_iAx_i = \\sum c_i \\lambda _ix_i$\n",
    "\n",
    "$A^kx_0=\\sum c_i \\lambda ^k x_i = \\lambda _1^k [c_1x_1+c_2(\\dfrac{\\lambda _2}{\\lambda _1})^kx_2+...+c_n(\\dfrac{\\lambda _n}{\\lambda _1})^kx_n]$\n",
    "\n",
    "WLOG, lambda 1 is the largest\n"
   ]
  },
  {
   "cell_type": "code",
   "execution_count": 12,
   "metadata": {},
   "outputs": [],
   "source": [
    "def power(A, tol=10**(-12), Maxitr=10000):\n",
    "    m,n = A.shape\n",
    "    x0 = np.mat(rn.randn(m,1))\n",
    "    x0 = x0/la.norm(x0) #normalized\n",
    "    x1 = A*x0\n",
    "    x1 = x1/la.norm(x1) #normalized\n",
    "    i = 1\n",
    "    while (la.norm(x1-x0))>tol and i<Maxitr:\n",
    "        i+=1\n",
    "        x0 = x1\n",
    "        x1 = A*x0\n",
    "        x1 = x1/la.norm(x1)\n",
    "    print(\"Compute\",i,\"iteration to obtain the result\")\n",
    "    L = (A*x1).T*x1/(x1.T*x1) #e.val\n",
    "    return x1,L"
   ]
  },
  {
   "cell_type": "code",
   "execution_count": 13,
   "metadata": {},
   "outputs": [
    {
     "name": "stdout",
     "output_type": "stream",
     "text": [
      "Compute 33 iteration to obtain the result\n"
     ]
    },
    {
     "data": {
      "text/plain": [
       "matrix([[1325.82140692]])"
      ]
     },
     "execution_count": 13,
     "metadata": {},
     "output_type": "execute_result"
    }
   ],
   "source": [
    "x1,L=power(A)\n",
    "L"
   ]
  },
  {
   "cell_type": "markdown",
   "metadata": {},
   "source": [
    "## Orthogonalization of Vectors"
   ]
  },
  {
   "cell_type": "code",
   "execution_count": 14,
   "metadata": {},
   "outputs": [
    {
     "data": {
      "text/plain": [
       "-0.24274357768078647"
      ]
     },
     "execution_count": 14,
     "metadata": {},
     "output_type": "execute_result"
    }
   ],
   "source": [
    "a = np.mat(rn.randn(3,1))\n",
    "b = np.mat(rn.randn(3,1))\n",
    "\n",
    "t = float(a.T*b)\n",
    "t"
   ]
  },
  {
   "cell_type": "code",
   "execution_count": 15,
   "metadata": {},
   "outputs": [],
   "source": [
    "a1 = a-t*b/la.norm(b)**2\n",
    "a2 = a-a1"
   ]
  },
  {
   "cell_type": "code",
   "execution_count": 16,
   "metadata": {},
   "outputs": [
    {
     "data": {
      "text/plain": [
       "-2.220446049250313e-16"
      ]
     },
     "execution_count": 16,
     "metadata": {},
     "output_type": "execute_result"
    }
   ],
   "source": [
    "float(a1.T*b) #pendicular vector"
   ]
  },
  {
   "cell_type": "markdown",
   "metadata": {},
   "source": [
    "The case of unit vector"
   ]
  },
  {
   "cell_type": "code",
   "execution_count": 18,
   "metadata": {},
   "outputs": [
    {
     "data": {
      "text/plain": [
       "5.551115123125783e-17"
      ]
     },
     "execution_count": 18,
     "metadata": {},
     "output_type": "execute_result"
    }
   ],
   "source": [
    "u = a/la.norm(a)\n",
    "v = b/la.norm(b)\n",
    "c = float(u.T*v)\n",
    "w = u-c*v\n",
    "w = w/la.norm(w)\n",
    "float(w.T*v)"
   ]
  },
  {
   "cell_type": "code",
   "execution_count": 19,
   "metadata": {},
   "outputs": [
    {
     "data": {
      "text/plain": [
       "0.9999999999999999"
      ]
     },
     "execution_count": 19,
     "metadata": {},
     "output_type": "execute_result"
    }
   ],
   "source": [
    "la.norm(w)"
   ]
  },
  {
   "cell_type": "markdown",
   "metadata": {},
   "source": [
    "## Gram-Schmidt Processing\n",
    "\n",
    "q1:\n",
    "\n",
    "$q_1 = \\frac{x_1}{\\left \\| x_1 \\right \\|}$\n",
    "\n",
    "q2:\n",
    "\n",
    "$q_{2}^{*} = (I-q_1q_1^T)x_2,\\ q_2 = \\frac{q_{2}^{*}}{\\left \\| q_{2}^{*} \\right \\|}$\n",
    "\n",
    "qi:\n",
    "\n",
    "$q_{i}^{*} = (I-\\sum_{j=1}^{i-1}q_jq_j^T)x_i,\\ q_i = \\frac{q_{i}^{*}}{\\left \\| q_{i}^{*} \\right \\|}$\n"
   ]
  },
  {
   "cell_type": "code",
   "execution_count": 5,
   "metadata": {},
   "outputs": [],
   "source": [
    "def GS(A, tol=10**(-12)): #innerproduct def is 0 (represented by tol)\n",
    "    m,n = A.shape\n",
    "    Idx = []\n",
    "    Q = np.mat(np.zeros((m,n)))\n",
    "    Q[:,0] = A[:,0]/la.norm(A[:,0]) #first col\n",
    "    for i in range(1,n):\n",
    "        Q[:,i] = A[:,i].copy()\n",
    "        #substract prior component of vector\n",
    "        for j in range(i):\n",
    "            Q[:,i] = Q[:,i] - Q[:,j]*(float(Q[:,j].T*Q[:,i])) \n",
    "        #if it is small enough dont do that\n",
    "        if la.norm(Q[:,i])>tol:\n",
    "            Q[:,i] = Q[:,i]/la.norm(Q[:,i])\n",
    "        else:\n",
    "            Idx.append(i)\n",
    "    return Q, Idx"
   ]
  },
  {
   "cell_type": "code",
   "execution_count": 33,
   "metadata": {},
   "outputs": [
    {
     "data": {
      "text/plain": [
       "matrix([[ 0.46703609, -1.74634285,  0.08995412,  0.11939538, -0.90393909,\n",
       "          0.11875354],\n",
       "        [ 0.24062243, -0.94535212,  1.32090032, -0.32472793, -0.02607335,\n",
       "         -1.23874079],\n",
       "        [ 0.52844142, -0.11521273, -0.16309172, -1.21552488, -0.01222304,\n",
       "          1.27182291],\n",
       "        [-0.33724753, -0.86581688,  1.01085863, -0.17217811,  1.22388574,\n",
       "         -0.45130582]])"
      ]
     },
     "execution_count": 33,
     "metadata": {},
     "output_type": "execute_result"
    }
   ],
   "source": [
    "A = np.mat(rn.randn(4,6))\n",
    "A"
   ]
  },
  {
   "cell_type": "code",
   "execution_count": 34,
   "metadata": {},
   "outputs": [],
   "source": [
    "Q, Idx = GS(A)"
   ]
  },
  {
   "cell_type": "code",
   "execution_count": 35,
   "metadata": {},
   "outputs": [
    {
     "data": {
      "text/plain": [
       "matrix([[ 0.57099823, -0.61147663, -0.52792475,  0.14612603],\n",
       "        [ 0.29418493, -0.33868797,  0.81313618,  0.37088441],\n",
       "        [ 0.64607236,  0.27276511,  0.19289328, -0.68628119],\n",
       "        [-0.41231875, -0.66104916,  0.15131819, -0.60836672]])"
      ]
     },
     "execution_count": 35,
     "metadata": {},
     "output_type": "execute_result"
    }
   ],
   "source": [
    "Q[:,:4]"
   ]
  },
  {
   "cell_type": "code",
   "execution_count": 36,
   "metadata": {},
   "outputs": [
    {
     "data": {
      "text/plain": [
       "matrix([[0.]])"
      ]
     },
     "execution_count": 36,
     "metadata": {},
     "output_type": "execute_result"
    }
   ],
   "source": [
    "Q[:,0].T*Q[:,1]"
   ]
  },
  {
   "cell_type": "code",
   "execution_count": 37,
   "metadata": {},
   "outputs": [
    {
     "data": {
      "text/plain": [
       "matrix([[ 8.32667268e-17, -8.32667268e-17],\n",
       "        [-1.11022302e-16,  5.55111512e-17],\n",
       "        [ 2.22044605e-16,  4.44089210e-16],\n",
       "        [-2.22044605e-16, -3.33066907e-16]])"
      ]
     },
     "execution_count": 37,
     "metadata": {},
     "output_type": "execute_result"
    }
   ],
   "source": [
    "Q[:,4:]"
   ]
  },
  {
   "cell_type": "code",
   "execution_count": 38,
   "metadata": {},
   "outputs": [
    {
     "data": {
      "text/plain": [
       "matrix([[3.93028888e-16]])"
      ]
     },
     "execution_count": 38,
     "metadata": {},
     "output_type": "execute_result"
    }
   ],
   "source": [
    "Q[:,0].T*Q[:,5]"
   ]
  },
  {
   "cell_type": "code",
   "execution_count": 39,
   "metadata": {},
   "outputs": [],
   "source": [
    "#false GS\n",
    "def FGS(A, tol=10**(-12)): #innerproduct def is 0 (represented by tol)\n",
    "    m,n = A.shape\n",
    "    Q = np.mat(np.zeros((m,n)))\n",
    "    Q[:,0] = A[:,0]/la.norm(A[:,0]) #first col\n",
    "    for i in range(1,n):\n",
    "        Q[:,i] = A[:,i].copy()\n",
    "        #substract prior component of vector\n",
    "        for j in range(i):\n",
    "            Q[:,i] = Q[:,i] - Q[:,j]*(float(Q[:,j].T*Q[:,i])) \n",
    "        Q[:,i] = Q[:,i]/la.norm(Q[:,i]) #false\n",
    "    return Q"
   ]
  },
  {
   "cell_type": "code",
   "execution_count": 40,
   "metadata": {},
   "outputs": [],
   "source": [
    "U = FGS(A)"
   ]
  },
  {
   "cell_type": "code",
   "execution_count": 42,
   "metadata": {},
   "outputs": [
    {
     "data": {
      "text/plain": [
       "matrix([[ 0.24253563, -0.61221303],\n",
       "        [-0.32338083,  0.64282368],\n",
       "        [ 0.64676167,  0.44895622],\n",
       "        [-0.64676167, -0.1020355 ]])"
      ]
     },
     "execution_count": 42,
     "metadata": {},
     "output_type": "execute_result"
    }
   ],
   "source": [
    "U[:,4:]"
   ]
  },
  {
   "cell_type": "code",
   "execution_count": 43,
   "metadata": {},
   "outputs": [
    {
     "data": {
      "text/plain": [
       "matrix([[0.17166584]])"
      ]
     },
     "execution_count": 43,
     "metadata": {},
     "output_type": "execute_result"
    }
   ],
   "source": [
    "U[:,0].T*U[:,5] #error not equal to 0"
   ]
  },
  {
   "cell_type": "markdown",
   "metadata": {},
   "source": [
    "## QR Decomposition\n",
    "\n",
    "$\\begin{bmatrix}\n",
    "|&|&|\\\\ \n",
    "x_1&x_2&x_3\\\\ \n",
    "|&|&| \n",
    "\\end{bmatrix} \n",
    "= \n",
    "\\begin{bmatrix}\n",
    "|&|&|\\\\ \n",
    "q_1&q_2&q_3\\\\ \n",
    "|&|&| \n",
    "\\end{bmatrix} \n",
    "= \n",
    "\\begin{bmatrix}\n",
    "r_{11}&r_{12}&r_{13}\\\\ \n",
    "0&r_{22}&r_{23}\\\\ \n",
    "0&0 &r_{33} \n",
    "\\end{bmatrix}\n$",
    "\n",
    "x1:\n",
    "\n",
    "$ x_1 = r_{11}q_1 \\Rightarrow r_{11} = \\left \\| x_1 \\right \\|$\n",
    "\n",
    "x2:\n",
    "\n",
    "$x_2 = r_{12}q_1+r_{22}q_2$\n",
    "\n",
    "$q_1^Tx_2 = r_{12}q_1^Tq_1+r_{22}q_1^Tq_2 = r_{12}$\n",
    "\n",
    "$r_{22}q_2 = x_2-q_1^Tx_2q_1 = q^*_2 \\Rightarrow r_{22}=\\left \\|q^*_2  \\right \\|$\n",
    "\n",
    "x3:\n",
    "\n",
    "$q_1^Tx_3 = r_{13}$\n",
    "\n",
    "$q_2^Tx_3 = r_{23}$\n",
    "\n",
    "$r_{33}=\\left \\|q^*_3  \\right \\|$\n",
    "\n",
    "in sum\n",
    "\n",
    "$A=QR,\\ R[r_{ij}]$\n",
    "\n",
    "$r_{ij} = \\left\\{\\begin{matrix}\n",
    "q_i^TA^{(j)},\\ i<j\\\\ \n",
    "\\left \\| q^*_i \\right \\|,\\ i=j,\\ q^*_i=(I-\\sum_{k=1}^{i-1}q_kq_k^T)A^{(i)}\\\\ \n",
    "0,\\ i>j\n",
    "\\end{matrix}\\right.$"
   ]
  },
  {
   "cell_type": "code",
   "execution_count": 44,
   "metadata": {},
   "outputs": [],
   "source": [
    "def QR(A, tol=10**(-14)):\n",
    "    m,n = A.shape\n",
    "    p = min(m,n)\n",
    "    #there are p orthonormal vectors\n",
    "    if m>=n:\n",
    "        Q = np.mat(np.zeros((m,n)))\n",
    "        R = np.mat(np.zeros((n,n)))\n",
    "    else:\n",
    "        Q = np.mat(np.zeros((m,m)))\n",
    "        R = np.mat(np.zeros((m,n)))\n",
    "    #record the rank of A\n",
    "    r = 0\n",
    "    #record the index of col\n",
    "    i = 0\n",
    "    while r<p and i<n: #full rank then stop\n",
    "        Q[:,r] = A[:,i].copy()\n",
    "        for j in range(r):\n",
    "            #not diagonal part\n",
    "            R[j,i] = float(Q[:,j].T*A[:,i])\n",
    "            #GS decomposition\n",
    "            Q[:,r] = Q[:,r] - R[j,i]*Q[:,j]\n",
    "        if abs(la.norm(Q[:,r]))>tol: #find out a independent vector\n",
    "            #diagonal part\n",
    "            R[r,i] = la.norm(Q[:,r]) #maybe some initial col is not independent, norm could be not on diagonol\n",
    "            #normalization\n",
    "            Q[:,r] = Q[:,r]/R[r,i]\n",
    "            r+=1\n",
    "        i+=1\n",
    "    R[:,m:] = Q.T*A[:,m:]\n",
    "    \n",
    "    return Q, R"
   ]
  },
  {
   "cell_type": "code",
   "execution_count": 45,
   "metadata": {},
   "outputs": [],
   "source": [
    "A = np.mat(rn.randn(3,4))\n",
    "Q,R = QR(A)"
   ]
  },
  {
   "cell_type": "code",
   "execution_count": 46,
   "metadata": {},
   "outputs": [
    {
     "data": {
      "text/plain": [
       "matrix([[ 0.11472379, -0.96010936, -0.25500679],\n",
       "        [ 0.09413804,  0.26605382, -0.95935051],\n",
       "        [ 0.98892693,  0.08605449,  0.12090552]])"
      ]
     },
     "execution_count": 46,
     "metadata": {},
     "output_type": "execute_result"
    }
   ],
   "source": [
    "Q"
   ]
  },
  {
   "cell_type": "code",
   "execution_count": 47,
   "metadata": {},
   "outputs": [
    {
     "data": {
      "text/plain": [
       "matrix([[ 1.73410591,  0.38720716, -0.28858312,  0.75113821],\n",
       "        [ 0.        ,  1.7050537 , -0.30279115,  0.95234063],\n",
       "        [ 0.        ,  0.        ,  0.78509429,  1.49014946]])"
      ]
     },
     "execution_count": 47,
     "metadata": {},
     "output_type": "execute_result"
    }
   ],
   "source": [
    "R"
   ]
  },
  {
   "cell_type": "code",
   "execution_count": 48,
   "metadata": {},
   "outputs": [
    {
     "data": {
      "text/plain": [
       "matrix([[ 0.19894321, -1.59261614,  0.05740089, -1.20817596],\n",
       "        [ 0.16324533,  0.49008697, -0.86090599, -1.1054911 ],\n",
       "        [ 1.71490404,  0.52964711, -0.21652193,  1.00494128]])"
      ]
     },
     "execution_count": 48,
     "metadata": {},
     "output_type": "execute_result"
    }
   ],
   "source": [
    "Q*R"
   ]
  },
  {
   "cell_type": "code",
   "execution_count": 49,
   "metadata": {},
   "outputs": [
    {
     "data": {
      "text/plain": [
       "matrix([[ 0.19894321, -1.59261614,  0.05740089, -1.20817596],\n",
       "        [ 0.16324533,  0.49008697, -0.86090599, -1.1054911 ],\n",
       "        [ 1.71490404,  0.52964711, -0.21652193,  1.00494128]])"
      ]
     },
     "execution_count": 49,
     "metadata": {},
     "output_type": "execute_result"
    }
   ],
   "source": [
    "A"
   ]
  },
  {
   "cell_type": "code",
   "execution_count": 50,
   "metadata": {},
   "outputs": [
    {
     "data": {
      "text/plain": [
       "8.401507749314535e-16"
      ]
     },
     "execution_count": 50,
     "metadata": {},
     "output_type": "execute_result"
    }
   ],
   "source": [
    "la.norm(Q*R-A)"
   ]
  },
  {
   "cell_type": "code",
   "execution_count": 53,
   "metadata": {},
   "outputs": [],
   "source": [
    "#0,1,2 col is dependet\n",
    "A[:,0] = A[:,1]\n",
    "A[:,2] = A[:,1]\n",
    "Q,R = QR(A)"
   ]
  },
  {
   "cell_type": "code",
   "execution_count": 54,
   "metadata": {},
   "outputs": [
    {
     "data": {
      "text/plain": [
       "matrix([[-0.91086419, -0.13348462,  0.        ],\n",
       "        [ 0.28029521, -0.8946213 ,  0.        ],\n",
       "        [ 0.30292082,  0.42642067,  0.        ]])"
      ]
     },
     "execution_count": 54,
     "metadata": {},
     "output_type": "execute_result"
    }
   ],
   "source": [
    "Q"
   ]
  },
  {
   "cell_type": "code",
   "execution_count": 55,
   "metadata": {},
   "outputs": [
    {
     "data": {
      "text/plain": [
       "matrix([[1.74846718, 1.74846718, 1.74846718, 1.095038  ],\n",
       "        [0.        , 0.        , 0.        , 1.57879653],\n",
       "        [0.        , 0.        , 0.        , 0.        ]])"
      ]
     },
     "execution_count": 55,
     "metadata": {},
     "output_type": "execute_result"
    }
   ],
   "source": [
    "R"
   ]
  },
  {
   "cell_type": "code",
   "execution_count": null,
   "metadata": {},
   "outputs": [],
   "source": []
  }
 ],
 "metadata": {
  "kernelspec": {
   "display_name": "Python 3",
   "language": "python",
   "name": "python3"
  },
  "language_info": {
   "codemirror_mode": {
    "name": "ipython",
    "version": 3
   },
   "file_extension": ".py",
   "mimetype": "text/x-python",
   "name": "python",
   "nbconvert_exporter": "python",
   "pygments_lexer": "ipython3",
   "version": "3.7.1"
  }
 },
 "nbformat": 4,
 "nbformat_minor": 2
}
