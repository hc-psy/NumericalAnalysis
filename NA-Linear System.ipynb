{
 "cells": [
  {
   "cell_type": "markdown",
   "metadata": {},
   "source": [
    "# Numerical Analysis: Linear System\n",
    "\n",
    "solve $Ax = b$"
   ]
  },
  {
   "cell_type": "code",
   "execution_count": 2,
   "metadata": {},
   "outputs": [],
   "source": [
    "import numpy.linalg as la\n",
    "import numpy.random as rn\n",
    "import numpy as np"
   ]
  },
  {
   "cell_type": "markdown",
   "metadata": {},
   "source": [
    "## Basic Operation"
   ]
  },
  {
   "cell_type": "code",
   "execution_count": 3,
   "metadata": {},
   "outputs": [
    {
     "data": {
      "text/plain": [
       "matrix([[-0.27987557, -0.12670132, -0.16353496, -0.78834768],\n",
       "        [ 0.58489604, -1.08927466,  0.06368095,  1.08144153],\n",
       "        [-0.4635079 ,  0.41858464, -0.90791568, -0.03356274],\n",
       "        [-0.7944097 , -0.83572685,  2.24931594,  0.1405566 ]])"
      ]
     },
     "execution_count": 3,
     "metadata": {},
     "output_type": "execute_result"
    }
   ],
   "source": [
    "#making matrix\n",
    "A = np.mat(rn.randn(4,4))\n",
    "A"
   ]
  },
  {
   "cell_type": "code",
   "execution_count": 4,
   "metadata": {},
   "outputs": [
    {
     "data": {
      "text/plain": [
       "matrix([[-0.86424876],\n",
       "        [ 1.02278295],\n",
       "        [-0.54091067],\n",
       "        [ 0.60827403]])"
      ]
     },
     "execution_count": 4,
     "metadata": {},
     "output_type": "execute_result"
    }
   ],
   "source": [
    "xt = np. mat(rn.randn(4,1))\n",
    "xt"
   ]
  },
  {
   "cell_type": "code",
   "execution_count": 5,
   "metadata": {},
   "outputs": [
    {
     "data": {
      "text/plain": [
       "matrix([[-0.27877945],\n",
       "        [-0.99622013],\n",
       "        [ 1.2993933 ],\n",
       "        [-1.29938164]])"
      ]
     },
     "execution_count": 5,
     "metadata": {},
     "output_type": "execute_result"
    }
   ],
   "source": [
    "b = A*xt\n",
    "b"
   ]
  },
  {
   "cell_type": "code",
   "execution_count": 7,
   "metadata": {},
   "outputs": [
    {
     "data": {
      "text/plain": [
       "matrix([[-0.86424876],\n",
       "        [ 1.02278295],\n",
       "        [-0.54091067],\n",
       "        [ 0.60827403]])"
      ]
     },
     "execution_count": 7,
     "metadata": {},
     "output_type": "execute_result"
    }
   ],
   "source": [
    "#solving system\n",
    "x = la.solve(A,b)\n",
    "x"
   ]
  },
  {
   "cell_type": "code",
   "execution_count": 8,
   "metadata": {},
   "outputs": [
    {
     "data": {
      "text/plain": [
       "2.7194799110210365e-16"
      ]
     },
     "execution_count": 8,
     "metadata": {},
     "output_type": "execute_result"
    }
   ],
   "source": [
    "#norm\n",
    "la.norm(x-xt)"
   ]
  },
  {
   "cell_type": "code",
   "execution_count": 9,
   "metadata": {},
   "outputs": [
    {
     "data": {
      "text/plain": [
       "matrix([[ -3.,  -1.,  -2.,  -8.],\n",
       "        [  6., -11.,   1.,  11.],\n",
       "        [ -5.,   4.,  -9.,  -0.],\n",
       "        [ -8.,  -8.,  22.,   1.]])"
      ]
     },
     "execution_count": 9,
     "metadata": {},
     "output_type": "execute_result"
    }
   ],
   "source": [
    "#make a int matrix\n",
    "A = np.round(A*10)\n",
    "A"
   ]
  },
  {
   "cell_type": "code",
   "execution_count": 10,
   "metadata": {},
   "outputs": [
    {
     "data": {
      "text/plain": [
       "matrix([[  77.,   70., -153.,    5.],\n",
       "        [-177.,   31.,  210., -158.],\n",
       "        [  84.,  -75.,   95.,   84.],\n",
       "        [-142.,  176., -168.,  -23.]])"
      ]
     },
     "execution_count": 10,
     "metadata": {},
     "output_type": "execute_result"
    }
   ],
   "source": [
    "#power\n",
    "B = A**2\n",
    "B"
   ]
  },
  {
   "cell_type": "code",
   "execution_count": 11,
   "metadata": {},
   "outputs": [
    {
     "data": {
      "text/plain": [
       "-19057.99999999999"
      ]
     },
     "execution_count": 11,
     "metadata": {},
     "output_type": "execute_result"
    }
   ],
   "source": [
    "#determinant\n",
    "la.det(A)"
   ]
  },
  {
   "cell_type": "code",
   "execution_count": 13,
   "metadata": {},
   "outputs": [
    {
     "data": {
      "text/plain": [
       "matrix([[1., 0., 0., 0.],\n",
       "        [0., 1., 0., 0.],\n",
       "        [0., 0., 1., 0.],\n",
       "        [0., 0., 0., 1.]])"
      ]
     },
     "execution_count": 13,
     "metadata": {},
     "output_type": "execute_result"
    }
   ],
   "source": [
    "#id matrix\n",
    "C = np.mat(np.identity(4))\n",
    "C"
   ]
  },
  {
   "cell_type": "code",
   "execution_count": 15,
   "metadata": {},
   "outputs": [
    {
     "data": {
      "text/plain": [
       "4"
      ]
     },
     "execution_count": 15,
     "metadata": {},
     "output_type": "execute_result"
    }
   ],
   "source": [
    "#rank\n",
    "la.matrix_rank(A)"
   ]
  },
  {
   "cell_type": "code",
   "execution_count": 18,
   "metadata": {},
   "outputs": [
    {
     "data": {
      "text/plain": [
       "matrix([[ -3.,  -1.,  -2.],\n",
       "        [  6., -11.,   1.],\n",
       "        [ -5.,   4.,  -9.]])"
      ]
     },
     "execution_count": 18,
     "metadata": {},
     "output_type": "execute_result"
    }
   ],
   "source": [
    "#sun-matrix\n",
    "E = A[:3,:3]\n",
    "E"
   ]
  },
  {
   "cell_type": "code",
   "execution_count": 19,
   "metadata": {},
   "outputs": [
    {
     "data": {
      "text/plain": [
       "matrix([[-3.],\n",
       "        [ 6.],\n",
       "        [-5.],\n",
       "        [-8.]])"
      ]
     },
     "execution_count": 19,
     "metadata": {},
     "output_type": "execute_result"
    }
   ],
   "source": [
    "v = A[:,0]\n",
    "v"
   ]
  },
  {
   "cell_type": "code",
   "execution_count": 21,
   "metadata": {},
   "outputs": [
    {
     "data": {
      "text/plain": [
       "matrix([[-2.],\n",
       "        [ 1.],\n",
       "        [-9.],\n",
       "        [22.]])"
      ]
     },
     "execution_count": 21,
     "metadata": {},
     "output_type": "execute_result"
    }
   ],
   "source": [
    "u = A[:,2]\n",
    "u"
   ]
  },
  {
   "cell_type": "code",
   "execution_count": 22,
   "metadata": {},
   "outputs": [
    {
     "data": {
      "text/plain": [
       "-119.0"
      ]
     },
     "execution_count": 22,
     "metadata": {},
     "output_type": "execute_result"
    }
   ],
   "source": [
    "#interproduct\n",
    "x = float(u.T*v)\n",
    "x"
   ]
  },
  {
   "cell_type": "markdown",
   "metadata": {},
   "source": [
    "## Row Operation"
   ]
  },
  {
   "cell_type": "code",
   "execution_count": 23,
   "metadata": {},
   "outputs": [
    {
     "data": {
      "text/plain": [
       "matrix([[1., 0., 0.],\n",
       "        [0., 1., 0.],\n",
       "        [0., 0., 1.]])"
      ]
     },
     "execution_count": 23,
     "metadata": {},
     "output_type": "execute_result"
    }
   ],
   "source": [
    "I = np.mat(np.identity(3))\n",
    "I"
   ]
  },
  {
   "cell_type": "code",
   "execution_count": 24,
   "metadata": {},
   "outputs": [
    {
     "data": {
      "text/plain": [
       "matrix([[6., 1., 5.],\n",
       "        [1., 1., 3.],\n",
       "        [4., 0., 5.]])"
      ]
     },
     "execution_count": 24,
     "metadata": {},
     "output_type": "execute_result"
    }
   ],
   "source": [
    "A = np.mat(np.round(rn.rand(3,3)*10))\n",
    "A"
   ]
  },
  {
   "cell_type": "code",
   "execution_count": 25,
   "metadata": {},
   "outputs": [
    {
     "data": {
      "text/plain": [
       "matrix([[1., 0., 0.],\n",
       "        [0., 1., 0.],\n",
       "        [0., 3., 1.]])"
      ]
     },
     "execution_count": 25,
     "metadata": {},
     "output_type": "execute_result"
    }
   ],
   "source": [
    "#adding\n",
    "E1 = I.copy() #reference passing, so use copy\n",
    "E1[2,:] = E1[1,:]*3+E1[2,:]\n",
    "E1 #IIIrow = IIrow *3 + IIIrow"
   ]
  },
  {
   "cell_type": "code",
   "execution_count": 27,
   "metadata": {},
   "outputs": [
    {
     "data": {
      "text/plain": [
       "matrix([[ 6.,  1.,  5.],\n",
       "        [ 1.,  1.,  3.],\n",
       "        [ 7.,  3., 14.]])"
      ]
     },
     "execution_count": 27,
     "metadata": {},
     "output_type": "execute_result"
    }
   ],
   "source": [
    "B = E1*A\n",
    "B"
   ]
  },
  {
   "cell_type": "code",
   "execution_count": 28,
   "metadata": {},
   "outputs": [
    {
     "data": {
      "text/plain": [
       "matrix([[1., 0., 0.],\n",
       "        [0., 1., 0.],\n",
       "        [0., 0., 2.]])"
      ]
     },
     "execution_count": 28,
     "metadata": {},
     "output_type": "execute_result"
    }
   ],
   "source": [
    "#multiplying\n",
    "E2 = I.copy()\n",
    "E2[2,:] = E2[2,:]*2\n",
    "E2"
   ]
  },
  {
   "cell_type": "code",
   "execution_count": 29,
   "metadata": {},
   "outputs": [
    {
     "data": {
      "text/plain": [
       "matrix([[ 6.,  1.,  5.],\n",
       "        [ 1.,  1.,  3.],\n",
       "        [ 8.,  0., 10.]])"
      ]
     },
     "execution_count": 29,
     "metadata": {},
     "output_type": "execute_result"
    }
   ],
   "source": [
    "B = E2*A\n",
    "B"
   ]
  },
  {
   "cell_type": "code",
   "execution_count": 30,
   "metadata": {},
   "outputs": [
    {
     "data": {
      "text/plain": [
       "matrix([[0., 1., 0.],\n",
       "        [1., 0., 0.],\n",
       "        [0., 0., 1.]])"
      ]
     },
     "execution_count": 30,
     "metadata": {},
     "output_type": "execute_result"
    }
   ],
   "source": [
    "#switching\n",
    "E3 = I.copy()\n",
    "E3[[0,1],:] = E3[[1,0],:]\n",
    "E3"
   ]
  },
  {
   "cell_type": "code",
   "execution_count": 31,
   "metadata": {},
   "outputs": [
    {
     "data": {
      "text/plain": [
       "matrix([[1., 1., 3.],\n",
       "        [6., 1., 5.],\n",
       "        [4., 0., 5.]])"
      ]
     },
     "execution_count": 31,
     "metadata": {},
     "output_type": "execute_result"
    }
   ],
   "source": [
    "B = E3*A\n",
    "B"
   ]
  },
  {
   "cell_type": "markdown",
   "metadata": {},
   "source": [
    "## Guass Elimination"
   ]
  },
  {
   "cell_type": "code",
   "execution_count": 66,
   "metadata": {},
   "outputs": [],
   "source": [
    "def GaussElimination(A,b): #suppose A is squared and invertible\n",
    "    m,n = A.shape\n",
    "    \n",
    "    # R is the rref\n",
    "    R = np.mat(np.zeros([m,n+1])) #augmented matrix\n",
    "    R[:,:n] = A\n",
    "    R[:,n] = b\n",
    "    \n",
    "    for i in range(m):\n",
    "        #find max element in the col i\n",
    "        maxEc = abs(R[i,i])\n",
    "        maxRow = i\n",
    "        for k in range(i+1,m):\n",
    "            if abs(R[k,i]) > maxEc:\n",
    "                maxEc = R[k,i]\n",
    "                maxRow = k\n",
    "        \n",
    "        #swap max row with current row\n",
    "        R[[i, maxRow],i:] = R[[maxRow,i],i:] #from i col avoid move extra 0\n",
    "        \n",
    "        #make all rows below this one is 0\n",
    "        for k in range(i+1,m):\n",
    "            c = -float(R[k,i])/R[i,i]\n",
    "            R[k,i:] = R[k,i:] + c*R[i,i:]\n",
    "    \n",
    "    #solve the equation for an upper triangular matrix\n",
    "    x = np.mat(np.zeros([m,1]))\n",
    "    for i in range(m-1,-1,-1): #from m-1(cause 0 is the first) to 0\n",
    "        x[i] = float(R[i,-1])/R[i,i] #(m,n)/(m,m)\n",
    "        for k in range(i-1,-1,-1):\n",
    "            R[k,-1] -= R[k,i]*x[i]\n",
    "    \n",
    "    return x"
   ]
  },
  {
   "cell_type": "code",
   "execution_count": 56,
   "metadata": {},
   "outputs": [
    {
     "data": {
      "text/plain": [
       "matrix([[ 5.,  5.,  5., 10.,  9.],\n",
       "        [ 1.,  5.,  9.,  9.,  5.],\n",
       "        [10.,  2.,  8.,  5.,  2.],\n",
       "        [ 7.,  5.,  8.,  6.,  5.],\n",
       "        [ 6.,  4.,  5.,  9.,  4.]])"
      ]
     },
     "execution_count": 56,
     "metadata": {},
     "output_type": "execute_result"
    }
   ],
   "source": [
    "A = np.mat(np.round(rn.rand(5,5)*10))\n",
    "A"
   ]
  },
  {
   "cell_type": "code",
   "execution_count": 57,
   "metadata": {},
   "outputs": [
    {
     "data": {
      "text/plain": [
       "matrix([[5.],\n",
       "        [8.],\n",
       "        [3.],\n",
       "        [2.],\n",
       "        [5.]])"
      ]
     },
     "execution_count": 57,
     "metadata": {},
     "output_type": "execute_result"
    }
   ],
   "source": [
    "xt = np.mat(np.round(rn.rand(5,1)*10))\n",
    "xt"
   ]
  },
  {
   "cell_type": "code",
   "execution_count": 58,
   "metadata": {},
   "outputs": [
    {
     "data": {
      "text/plain": [
       "matrix([[145.],\n",
       "        [115.],\n",
       "        [110.],\n",
       "        [136.],\n",
       "        [115.]])"
      ]
     },
     "execution_count": 58,
     "metadata": {},
     "output_type": "execute_result"
    }
   ],
   "source": [
    "b = A*xt\n",
    "b"
   ]
  },
  {
   "cell_type": "code",
   "execution_count": 67,
   "metadata": {},
   "outputs": [
    {
     "data": {
      "text/plain": [
       "matrix([[5.],\n",
       "        [8.],\n",
       "        [3.],\n",
       "        [2.],\n",
       "        [5.]])"
      ]
     },
     "execution_count": 67,
     "metadata": {},
     "output_type": "execute_result"
    }
   ],
   "source": [
    "x = GaussElimination(A,b)\n",
    "x"
   ]
  },
  {
   "cell_type": "markdown",
   "metadata": {},
   "source": [
    "## $PA=LU$ Decomposition\n",
    "\n",
    "U is row operation\n",
    "\n",
    "L is col operation\n",
    "\n",
    "for swapping, A = LU, when there exists a need for row swapping, A = LPU'\n",
    "\n",
    "where U' is swapped and P is the corresponding permutation matrix\n",
    "\n",
    "for satisfy the PA = LU form, we multiply the P at left as PA = PLPU'\n",
    "\n",
    "in this case L needs to do row and col swap."
   ]
  },
  {
   "cell_type": "code",
   "execution_count": 76,
   "metadata": {},
   "outputs": [],
   "source": [
    "def LU(A):\n",
    "    m,n = A.shape\n",
    "    U = A.copy()\n",
    "    L = np.mat(np.identity(m))\n",
    "    P = L.copy()\n",
    "    \n",
    "    for i in range(m):\n",
    "        # find max element in the col i\n",
    "        maxEc = abs(U[i,i])\n",
    "        maxRow = i\n",
    "        for k in range(i+1,m):\n",
    "            if abs(U[k,i]) > maxEc:\n",
    "                maxEc = U[k,i]\n",
    "                maxRow = k\n",
    "        \n",
    "        #swap maximum row with current row\n",
    "        U[[i, maxRow],:] = U[[maxRow,i],:]\n",
    "        P[[i, maxRow],:] = P[[maxRow,i],:]\n",
    "        L[[i, maxRow],:] = L[[maxRow,i],:]\n",
    "        L[:,[i, maxRow]] = L[:,[maxRow,i]] #maintain low triangular form\n",
    "        \n",
    "        for k in range(i+1,m):\n",
    "            c = -float(U[k,i])/U[i,i]\n",
    "            #delete k row by i\n",
    "            U[k,i:] = U[k,i:] + c*U[i,i:]\n",
    "            #delete i col by k\n",
    "            L[k:,i] = L[k:,i] - c*L[k:,k]\n",
    "    \n",
    "    return L,U,P"
   ]
  },
  {
   "cell_type": "code",
   "execution_count": 84,
   "metadata": {},
   "outputs": [
    {
     "data": {
      "text/plain": [
       "matrix([[ 47.,  69.,   6.,  22.,  93.],\n",
       "        [ 43.,  19.,  57.,  48.,  72.],\n",
       "        [ 95.,  32.,  23.,  55.,  13.],\n",
       "        [ 17.,  28.,  42.,  57., 100.],\n",
       "        [ 55.,  48.,  88.,  40.,  95.]])"
      ]
     },
     "execution_count": 84,
     "metadata": {},
     "output_type": "execute_result"
    }
   ],
   "source": [
    "A = np.mat(np.round(rn.rand(5,5)*100))\n",
    "A"
   ]
  },
  {
   "cell_type": "code",
   "execution_count": 85,
   "metadata": {},
   "outputs": [],
   "source": [
    "L,U,P = LU(A)"
   ]
  },
  {
   "cell_type": "code",
   "execution_count": 94,
   "metadata": {},
   "outputs": [
    {
     "data": {
      "text/plain": [
       "matrix([[95., 32., 23., 55., 13.],\n",
       "        [ 0., 53., -5., -5., 87.],\n",
       "        [ 0., -0., 78., 11., 39.],\n",
       "        [ 0.,  0.,  0., 44., 41.],\n",
       "        [ 0.,  0.,  0.,  0., 19.]])"
      ]
     },
     "execution_count": 94,
     "metadata": {},
     "output_type": "execute_result"
    }
   ],
   "source": [
    "np.round(U)"
   ]
  },
  {
   "cell_type": "code",
   "execution_count": 91,
   "metadata": {},
   "outputs": [
    {
     "data": {
      "text/plain": [
       "matrix([[1.        , 0.        , 0.        , 0.        , 0.        ],\n",
       "        [0.49473684, 1.        , 0.        , 0.        , 0.        ],\n",
       "        [0.57894737, 0.55434567, 1.        , 0.        , 0.        ],\n",
       "        [0.17894737, 0.41892695, 0.51679748, 1.        , 0.        ],\n",
       "        [0.45263158, 0.08493368, 0.60575185, 0.38633285, 1.        ]])"
      ]
     },
     "execution_count": 91,
     "metadata": {},
     "output_type": "execute_result"
    }
   ],
   "source": [
    "L"
   ]
  },
  {
   "cell_type": "code",
   "execution_count": 95,
   "metadata": {},
   "outputs": [
    {
     "data": {
      "text/plain": [
       "matrix([[0., 0., 1., 0., 0.],\n",
       "        [1., 0., 0., 0., 0.],\n",
       "        [0., 0., 0., 0., 1.],\n",
       "        [0., 0., 0., 1., 0.],\n",
       "        [0., 1., 0., 0., 0.]])"
      ]
     },
     "execution_count": 95,
     "metadata": {},
     "output_type": "execute_result"
    }
   ],
   "source": [
    "P"
   ]
  },
  {
   "cell_type": "code",
   "execution_count": 96,
   "metadata": {},
   "outputs": [
    {
     "data": {
      "text/plain": [
       "matrix([[ 95.,  32.,  23.,  55.,  13.],\n",
       "        [ 47.,  69.,   6.,  22.,  93.],\n",
       "        [ 55.,  48.,  88.,  40.,  95.],\n",
       "        [ 17.,  28.,  42.,  57., 100.],\n",
       "        [ 43.,  19.,  57.,  48.,  72.]])"
      ]
     },
     "execution_count": 96,
     "metadata": {},
     "output_type": "execute_result"
    }
   ],
   "source": [
    "P*A"
   ]
  },
  {
   "cell_type": "code",
   "execution_count": 97,
   "metadata": {},
   "outputs": [
    {
     "data": {
      "text/plain": [
       "matrix([[ 95.,  32.,  23.,  55.,  13.],\n",
       "        [ 47.,  69.,   6.,  22.,  93.],\n",
       "        [ 55.,  48.,  88.,  40.,  95.],\n",
       "        [ 17.,  28.,  42.,  57., 100.],\n",
       "        [ 43.,  19.,  57.,  48.,  72.]])"
      ]
     },
     "execution_count": 97,
     "metadata": {},
     "output_type": "execute_result"
    }
   ],
   "source": [
    "L*U"
   ]
  },
  {
   "cell_type": "markdown",
   "metadata": {},
   "source": [
    "## Solve System by Triangular Matrices\n",
    "\n",
    "$Ax = b$\n",
    "\n",
    "$PAx = Pb$\n",
    "\n",
    "$LUx = Pb$\n",
    "\n",
    "let $y=Ux$\n",
    "\n",
    "$Ly = Pb$\n",
    "\n",
    "$Ux = y$\n",
    "\n",
    "the merit of this method is that doing calculation on triangular matrix is simple"
   ]
  },
  {
   "cell_type": "code",
   "execution_count": 110,
   "metadata": {},
   "outputs": [],
   "source": [
    "def Forward(L,b):\n",
    "    m,n = L.shape\n",
    "    x = b.copy()\n",
    "    for i in range(m):\n",
    "        for k in range(i):\n",
    "            x[i] -= L[i,k]*x[k] # in the first step i = 0 will not occur \n",
    "        x[i] = float(x[i])/L[i,i] # i, i is the pivot\n",
    "    return x\n",
    "\n",
    "def Backward(U,b):\n",
    "    m,n = U.shape\n",
    "    x = b.copy()\n",
    "    for i in range(m-1,-1,-1):\n",
    "        for k in range(m-1,i,-1):\n",
    "            x[i] -= U[i,k]*x[k]\n",
    "        x[i] = float(x[i])/U[i,i]\n",
    "    return x"
   ]
  },
  {
   "cell_type": "code",
   "execution_count": 100,
   "metadata": {},
   "outputs": [
    {
     "data": {
      "text/plain": [
       "matrix([[ 47.,  69.,   6.,  22.,  93.],\n",
       "        [ 43.,  19.,  57.,  48.,  72.],\n",
       "        [ 95.,  32.,  23.,  55.,  13.],\n",
       "        [ 17.,  28.,  42.,  57., 100.],\n",
       "        [ 55.,  48.,  88.,  40.,  95.]])"
      ]
     },
     "execution_count": 100,
     "metadata": {},
     "output_type": "execute_result"
    }
   ],
   "source": [
    "A"
   ]
  },
  {
   "cell_type": "code",
   "execution_count": 103,
   "metadata": {},
   "outputs": [
    {
     "data": {
      "text/plain": [
       "matrix([[ 1.],\n",
       "        [27.],\n",
       "        [51.],\n",
       "        [72.],\n",
       "        [92.]])"
      ]
     },
     "execution_count": 103,
     "metadata": {},
     "output_type": "execute_result"
    }
   ],
   "source": [
    "xt = np.mat(np.round(rn.rand(5,1)*100))\n",
    "xt"
   ]
  },
  {
   "cell_type": "code",
   "execution_count": 104,
   "metadata": {},
   "outputs": [
    {
     "data": {
      "text/plain": [
       "matrix([[12356.],\n",
       "        [13543.],\n",
       "        [ 7288.],\n",
       "        [16219.],\n",
       "        [17459.]])"
      ]
     },
     "execution_count": 104,
     "metadata": {},
     "output_type": "execute_result"
    }
   ],
   "source": [
    "b = A*xt\n",
    "b"
   ]
  },
  {
   "cell_type": "code",
   "execution_count": 105,
   "metadata": {},
   "outputs": [],
   "source": [
    "L,U,P = LU(A)"
   ]
  },
  {
   "cell_type": "code",
   "execution_count": 106,
   "metadata": {},
   "outputs": [
    {
     "data": {
      "text/plain": [
       "matrix([[ 95.,  32.,  23.,  55.,  13.],\n",
       "        [ 47.,  69.,   6.,  22.,  93.],\n",
       "        [ 55.,  48.,  88.,  40.,  95.],\n",
       "        [ 17.,  28.,  42.,  57., 100.],\n",
       "        [ 43.,  19.,  57.,  48.,  72.]])"
      ]
     },
     "execution_count": 106,
     "metadata": {},
     "output_type": "execute_result"
    }
   ],
   "source": [
    "P*A"
   ]
  },
  {
   "cell_type": "code",
   "execution_count": 107,
   "metadata": {},
   "outputs": [
    {
     "data": {
      "text/plain": [
       "matrix([[ 95.,  32.,  23.,  55.,  13.],\n",
       "        [ 47.,  69.,   6.,  22.,  93.],\n",
       "        [ 55.,  48.,  88.,  40.,  95.],\n",
       "        [ 17.,  28.,  42.,  57., 100.],\n",
       "        [ 43.,  19.,  57.,  48.,  72.]])"
      ]
     },
     "execution_count": 107,
     "metadata": {},
     "output_type": "execute_result"
    }
   ],
   "source": [
    "L*U"
   ]
  },
  {
   "cell_type": "code",
   "execution_count": 108,
   "metadata": {},
   "outputs": [
    {
     "data": {
      "text/plain": [
       "matrix([[ 7288.],\n",
       "        [12356.],\n",
       "        [17459.],\n",
       "        [16219.],\n",
       "        [13543.]])"
      ]
     },
     "execution_count": 108,
     "metadata": {},
     "output_type": "execute_result"
    }
   ],
   "source": [
    "bp = P*b\n",
    "bp"
   ]
  },
  {
   "cell_type": "code",
   "execution_count": 111,
   "metadata": {},
   "outputs": [
    {
     "data": {
      "text/plain": [
       "matrix([[7288.        ],\n",
       "        [8750.35789474],\n",
       "        [8388.90853296],\n",
       "        [6913.70409212],\n",
       "        [1748.43308643]])"
      ]
     },
     "execution_count": 111,
     "metadata": {},
     "output_type": "execute_result"
    }
   ],
   "source": [
    "y = Forward(L,bp) #solve y\n",
    "y"
   ]
  },
  {
   "cell_type": "code",
   "execution_count": 112,
   "metadata": {},
   "outputs": [
    {
     "data": {
      "text/plain": [
       "matrix([[ 1.],\n",
       "        [27.],\n",
       "        [51.],\n",
       "        [72.],\n",
       "        [92.]])"
      ]
     },
     "execution_count": 112,
     "metadata": {},
     "output_type": "execute_result"
    }
   ],
   "source": [
    "x = Backward(U,y) #solve x\n",
    "x"
   ]
  }
 ],
 "metadata": {
  "kernelspec": {
   "display_name": "Python 3",
   "language": "python",
   "name": "python3"
  },
  "language_info": {
   "codemirror_mode": {
    "name": "ipython",
    "version": 3
   },
   "file_extension": ".py",
   "mimetype": "text/x-python",
   "name": "python",
   "nbconvert_exporter": "python",
   "pygments_lexer": "ipython3",
   "version": "3.7.1"
  }
 },
 "nbformat": 4,
 "nbformat_minor": 2
}
